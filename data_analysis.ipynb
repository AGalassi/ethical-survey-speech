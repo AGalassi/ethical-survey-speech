{
 "cells": [
  {
   "cell_type": "markdown",
   "source": [
    "# Import Data"
   ],
   "metadata": {
    "collapsed": false
   }
  },
  {
   "cell_type": "code",
   "execution_count": 113,
   "outputs": [],
   "source": [
    "import pandas as pd"
   ],
   "metadata": {
    "collapsed": false,
    "ExecuteTime": {
     "end_time": "2024-03-30T10:53:39.658260Z",
     "start_time": "2024-03-30T10:53:39.650459Z"
    }
   }
  },
  {
   "cell_type": "code",
   "execution_count": 114,
   "metadata": {
    "collapsed": true,
    "ExecuteTime": {
     "end_time": "2024-03-30T10:53:39.816081Z",
     "start_time": "2024-03-30T10:53:39.809983Z"
    }
   },
   "outputs": [],
   "source": [
    "# read in the data\n",
    "data_path = 'data/table.csv'\n",
    "data = pd.read_csv(data_path, sep = ',')"
   ]
  },
  {
   "cell_type": "code",
   "execution_count": 115,
   "outputs": [
    {
     "data": {
      "text/plain": "                                       Dataset Source of Content Target Issue   \n0  Chinese Multimodal Depression Corpus (CMDC)                CI           DP  \\\n1                                          EMU        CS, SR, SS       AX, DP   \n2                                     Moodable            CS, SR           DP   \n3                                Jiang et al.                 CI           DP   \n4                                  Lin et al.                 CI       AX, DP   \n\n    C1   C2   C3   C4 C5-a C5-b C5-c  ... C5-g C5-h C5-i C6 - a C6 - b C6 - c   \n0  Yes   No  Yes  Yes  Yes  Yes  Yes  ...   No  Yes   No    Yes    Yes    Yes  \\\n1  Yes  Yes  Yes  Yes   No   No   No  ...   No   No  Yes     No    Yes     No   \n2  Yes  Yes   No   No   No   No   No  ...   No   No  Yes     No     No     No   \n3   No   No   No  Yes  Yes  Yes  Yes  ...   No   No   No     No     No    Yes   \n4  Yes   No   No   No  Yes  Yes  Yes  ...   No  Yes  Yes     No     No     No   \n\n  C6-d C6-e C7-a C7-b  \n0  Yes   No  Yes  Yes  \n1   No   No  Yes  Yes  \n2   No   No   No   No  \n3   No   No  Yes   No  \n4   No   No  Yes   No  \n\n[5 rows x 23 columns]",
      "text/html": "<div>\n<style scoped>\n    .dataframe tbody tr th:only-of-type {\n        vertical-align: middle;\n    }\n\n    .dataframe tbody tr th {\n        vertical-align: top;\n    }\n\n    .dataframe thead th {\n        text-align: right;\n    }\n</style>\n<table border=\"1\" class=\"dataframe\">\n  <thead>\n    <tr style=\"text-align: right;\">\n      <th></th>\n      <th>Dataset</th>\n      <th>Source of Content</th>\n      <th>Target Issue</th>\n      <th>C1</th>\n      <th>C2</th>\n      <th>C3</th>\n      <th>C4</th>\n      <th>C5-a</th>\n      <th>C5-b</th>\n      <th>C5-c</th>\n      <th>...</th>\n      <th>C5-g</th>\n      <th>C5-h</th>\n      <th>C5-i</th>\n      <th>C6 - a</th>\n      <th>C6 - b</th>\n      <th>C6 - c</th>\n      <th>C6-d</th>\n      <th>C6-e</th>\n      <th>C7-a</th>\n      <th>C7-b</th>\n    </tr>\n  </thead>\n  <tbody>\n    <tr>\n      <th>0</th>\n      <td>Chinese Multimodal Depression Corpus (CMDC)</td>\n      <td>CI</td>\n      <td>DP</td>\n      <td>Yes</td>\n      <td>No</td>\n      <td>Yes</td>\n      <td>Yes</td>\n      <td>Yes</td>\n      <td>Yes</td>\n      <td>Yes</td>\n      <td>...</td>\n      <td>No</td>\n      <td>Yes</td>\n      <td>No</td>\n      <td>Yes</td>\n      <td>Yes</td>\n      <td>Yes</td>\n      <td>Yes</td>\n      <td>No</td>\n      <td>Yes</td>\n      <td>Yes</td>\n    </tr>\n    <tr>\n      <th>1</th>\n      <td>EMU</td>\n      <td>CS, SR, SS</td>\n      <td>AX, DP</td>\n      <td>Yes</td>\n      <td>Yes</td>\n      <td>Yes</td>\n      <td>Yes</td>\n      <td>No</td>\n      <td>No</td>\n      <td>No</td>\n      <td>...</td>\n      <td>No</td>\n      <td>No</td>\n      <td>Yes</td>\n      <td>No</td>\n      <td>Yes</td>\n      <td>No</td>\n      <td>No</td>\n      <td>No</td>\n      <td>Yes</td>\n      <td>Yes</td>\n    </tr>\n    <tr>\n      <th>2</th>\n      <td>Moodable</td>\n      <td>CS, SR</td>\n      <td>DP</td>\n      <td>Yes</td>\n      <td>Yes</td>\n      <td>No</td>\n      <td>No</td>\n      <td>No</td>\n      <td>No</td>\n      <td>No</td>\n      <td>...</td>\n      <td>No</td>\n      <td>No</td>\n      <td>Yes</td>\n      <td>No</td>\n      <td>No</td>\n      <td>No</td>\n      <td>No</td>\n      <td>No</td>\n      <td>No</td>\n      <td>No</td>\n    </tr>\n    <tr>\n      <th>3</th>\n      <td>Jiang et al.</td>\n      <td>CI</td>\n      <td>DP</td>\n      <td>No</td>\n      <td>No</td>\n      <td>No</td>\n      <td>Yes</td>\n      <td>Yes</td>\n      <td>Yes</td>\n      <td>Yes</td>\n      <td>...</td>\n      <td>No</td>\n      <td>No</td>\n      <td>No</td>\n      <td>No</td>\n      <td>No</td>\n      <td>Yes</td>\n      <td>No</td>\n      <td>No</td>\n      <td>Yes</td>\n      <td>No</td>\n    </tr>\n    <tr>\n      <th>4</th>\n      <td>Lin et al.</td>\n      <td>CI</td>\n      <td>AX, DP</td>\n      <td>Yes</td>\n      <td>No</td>\n      <td>No</td>\n      <td>No</td>\n      <td>Yes</td>\n      <td>Yes</td>\n      <td>Yes</td>\n      <td>...</td>\n      <td>No</td>\n      <td>Yes</td>\n      <td>Yes</td>\n      <td>No</td>\n      <td>No</td>\n      <td>No</td>\n      <td>No</td>\n      <td>No</td>\n      <td>Yes</td>\n      <td>No</td>\n    </tr>\n  </tbody>\n</table>\n<p>5 rows × 23 columns</p>\n</div>"
     },
     "execution_count": 115,
     "metadata": {},
     "output_type": "execute_result"
    }
   ],
   "source": [
    "data.head()"
   ],
   "metadata": {
    "collapsed": false,
    "ExecuteTime": {
     "end_time": "2024-03-30T10:53:40.123951Z",
     "start_time": "2024-03-30T10:53:40.118550Z"
    }
   }
  },
  {
   "cell_type": "code",
   "execution_count": 116,
   "outputs": [],
   "source": [
    "# substitute 'Yes' with 1 and 'No' with 0\n",
    "# i will use the replace method of the dataframe to replace 'Yes' with 1 and 'No' with 0\n",
    "\n",
    "data.replace({'Yes': 1, 'No': 0}, inplace = True)\n"
   ],
   "metadata": {
    "collapsed": false,
    "ExecuteTime": {
     "end_time": "2024-03-30T10:53:40.522755Z",
     "start_time": "2024-03-30T10:53:40.519199Z"
    }
   }
  },
  {
   "cell_type": "code",
   "execution_count": 117,
   "outputs": [
    {
     "data": {
      "text/plain": "                                       Dataset Source of Content Target Issue   \n0  Chinese Multimodal Depression Corpus (CMDC)                CI           DP  \\\n1                                          EMU        CS, SR, SS       AX, DP   \n2                                     Moodable            CS, SR           DP   \n3                                Jiang et al.                 CI           DP   \n4                                  Lin et al.                 CI       AX, DP   \n\n    C1   C2   C3   C4  C5-a  C5-b  C5-c  ...  C5-g  C5-h  C5-i  C6 - a   \n0  1.0  0.0  1.0  1.0     1     1     1  ...     0     1   0.0       1  \\\n1  1.0  1.0  1.0  1.0     0     0     0  ...     0     0   1.0       0   \n2  1.0  1.0  0.0  0.0     0     0     0  ...     0     0   1.0       0   \n3  0.0  0.0  0.0  1.0     1     1     1  ...     0     0   0.0       0   \n4  1.0  0.0  0.0  0.0     1     1     1  ...     0     1   1.0       0   \n\n   C6 - b  C6 - c  C6-d  C6-e  C7-a  C7-b  \n0       1       1     1     0     1     1  \n1       1       0     0     0     1     1  \n2       0       0     0     0     0     0  \n3       0       1     0     0     1     0  \n4       0       0     0     0     1     0  \n\n[5 rows x 23 columns]",
      "text/html": "<div>\n<style scoped>\n    .dataframe tbody tr th:only-of-type {\n        vertical-align: middle;\n    }\n\n    .dataframe tbody tr th {\n        vertical-align: top;\n    }\n\n    .dataframe thead th {\n        text-align: right;\n    }\n</style>\n<table border=\"1\" class=\"dataframe\">\n  <thead>\n    <tr style=\"text-align: right;\">\n      <th></th>\n      <th>Dataset</th>\n      <th>Source of Content</th>\n      <th>Target Issue</th>\n      <th>C1</th>\n      <th>C2</th>\n      <th>C3</th>\n      <th>C4</th>\n      <th>C5-a</th>\n      <th>C5-b</th>\n      <th>C5-c</th>\n      <th>...</th>\n      <th>C5-g</th>\n      <th>C5-h</th>\n      <th>C5-i</th>\n      <th>C6 - a</th>\n      <th>C6 - b</th>\n      <th>C6 - c</th>\n      <th>C6-d</th>\n      <th>C6-e</th>\n      <th>C7-a</th>\n      <th>C7-b</th>\n    </tr>\n  </thead>\n  <tbody>\n    <tr>\n      <th>0</th>\n      <td>Chinese Multimodal Depression Corpus (CMDC)</td>\n      <td>CI</td>\n      <td>DP</td>\n      <td>1.0</td>\n      <td>0.0</td>\n      <td>1.0</td>\n      <td>1.0</td>\n      <td>1</td>\n      <td>1</td>\n      <td>1</td>\n      <td>...</td>\n      <td>0</td>\n      <td>1</td>\n      <td>0.0</td>\n      <td>1</td>\n      <td>1</td>\n      <td>1</td>\n      <td>1</td>\n      <td>0</td>\n      <td>1</td>\n      <td>1</td>\n    </tr>\n    <tr>\n      <th>1</th>\n      <td>EMU</td>\n      <td>CS, SR, SS</td>\n      <td>AX, DP</td>\n      <td>1.0</td>\n      <td>1.0</td>\n      <td>1.0</td>\n      <td>1.0</td>\n      <td>0</td>\n      <td>0</td>\n      <td>0</td>\n      <td>...</td>\n      <td>0</td>\n      <td>0</td>\n      <td>1.0</td>\n      <td>0</td>\n      <td>1</td>\n      <td>0</td>\n      <td>0</td>\n      <td>0</td>\n      <td>1</td>\n      <td>1</td>\n    </tr>\n    <tr>\n      <th>2</th>\n      <td>Moodable</td>\n      <td>CS, SR</td>\n      <td>DP</td>\n      <td>1.0</td>\n      <td>1.0</td>\n      <td>0.0</td>\n      <td>0.0</td>\n      <td>0</td>\n      <td>0</td>\n      <td>0</td>\n      <td>...</td>\n      <td>0</td>\n      <td>0</td>\n      <td>1.0</td>\n      <td>0</td>\n      <td>0</td>\n      <td>0</td>\n      <td>0</td>\n      <td>0</td>\n      <td>0</td>\n      <td>0</td>\n    </tr>\n    <tr>\n      <th>3</th>\n      <td>Jiang et al.</td>\n      <td>CI</td>\n      <td>DP</td>\n      <td>0.0</td>\n      <td>0.0</td>\n      <td>0.0</td>\n      <td>1.0</td>\n      <td>1</td>\n      <td>1</td>\n      <td>1</td>\n      <td>...</td>\n      <td>0</td>\n      <td>0</td>\n      <td>0.0</td>\n      <td>0</td>\n      <td>0</td>\n      <td>1</td>\n      <td>0</td>\n      <td>0</td>\n      <td>1</td>\n      <td>0</td>\n    </tr>\n    <tr>\n      <th>4</th>\n      <td>Lin et al.</td>\n      <td>CI</td>\n      <td>AX, DP</td>\n      <td>1.0</td>\n      <td>0.0</td>\n      <td>0.0</td>\n      <td>0.0</td>\n      <td>1</td>\n      <td>1</td>\n      <td>1</td>\n      <td>...</td>\n      <td>0</td>\n      <td>1</td>\n      <td>1.0</td>\n      <td>0</td>\n      <td>0</td>\n      <td>0</td>\n      <td>0</td>\n      <td>0</td>\n      <td>1</td>\n      <td>0</td>\n    </tr>\n  </tbody>\n</table>\n<p>5 rows × 23 columns</p>\n</div>"
     },
     "execution_count": 117,
     "metadata": {},
     "output_type": "execute_result"
    }
   ],
   "source": [
    "data.head()"
   ],
   "metadata": {
    "collapsed": false,
    "ExecuteTime": {
     "end_time": "2024-03-30T10:53:40.865364Z",
     "start_time": "2024-03-30T10:53:40.851978Z"
    }
   }
  },
  {
   "cell_type": "code",
   "execution_count": 118,
   "outputs": [
    {
     "data": {
      "text/plain": "Dataset              36\nSource of Content    36\nTarget Issue         36\nC1                   20\nC2                    9\nC3                   10\nC4                   21\nC5-a                 29\nC5-b                 25\nC5-c                 23\nC5-d                 12\nC5-e                 24\nC5-f                  2\nC5-g                  2\nC5-h                 13\nC5-i                  7\nC6 - a               12\nC6 - b                8\nC6 - c               17\nC6-d                  8\nC6-e                  1\nC7-a                 28\nC7-b                 17\ndtype: int64"
     },
     "execution_count": 118,
     "metadata": {},
     "output_type": "execute_result"
    }
   ],
   "source": [
    "# replace 0 with NaN\n",
    "# i will use the replace method of the dataframe to replace 0 with NaN\n",
    "data.replace({0: pd.NA}, inplace = True)\n",
    "\n",
    "data.count()"
   ],
   "metadata": {
    "collapsed": false,
    "ExecuteTime": {
     "end_time": "2024-03-30T10:53:42.136253Z",
     "start_time": "2024-03-30T10:53:42.127612Z"
    }
   }
  },
  {
   "cell_type": "code",
   "execution_count": 36,
   "outputs": [
    {
     "data": {
      "text/plain": "C6-e                  1\nC5-f                  2\nC5-g                  2\nC5-i                  7\nC6-d                  8\nC6 - b                8\nC2                    9\nC3                   10\nC5-d                 12\nC6 - a               12\nC5-h                 13\nC7-b                 17\nC6 - c               17\nC1                   20\nC4                   21\nC5-c                 23\nC5-e                 24\nC5-b                 25\nC7-a                 28\nC5-a                 29\nTarget Issue         36\nSource of Content    36\nDataset              36\ndtype: int64"
     },
     "execution_count": 36,
     "metadata": {},
     "output_type": "execute_result"
    }
   ],
   "source": [
    "# sort the count\n",
    "data.count().sort_values()"
   ],
   "metadata": {
    "collapsed": false,
    "ExecuteTime": {
     "end_time": "2024-03-29T19:16:54.970357Z",
     "start_time": "2024-03-29T19:16:54.951382Z"
    }
   }
  },
  {
   "cell_type": "markdown",
   "source": [
    " # Target Issue Analysis"
   ],
   "metadata": {
    "collapsed": false
   }
  },
  {
   "cell_type": "code",
   "execution_count": 37,
   "outputs": [
    {
     "data": {
      "text/plain": "                                       Dataset Source of Content Target Issue   \n0  Chinese Multimodal Depression Corpus (CMDC)                CI           DP  \\\n1                                          EMU        CS, SR, SS           AX   \n1                                          EMU        CS, SR, SS           DP   \n2                                     Moodable            CS, SR           DP   \n3                                Jiang et al.                 CI           DP   \n\n     C1    C2    C3    C4  C5-a  C5-b  C5-c  ...  C5-g  C5-h  C5-i C6 - a   \n0   1.0  <NA>   1.0   1.0     1     1     1  ...  <NA>     1  <NA>      1  \\\n1   1.0   1.0   1.0   1.0  <NA>  <NA>  <NA>  ...  <NA>  <NA>   1.0   <NA>   \n1   1.0   1.0   1.0   1.0  <NA>  <NA>  <NA>  ...  <NA>  <NA>   1.0   <NA>   \n2   1.0   1.0  <NA>  <NA>  <NA>  <NA>  <NA>  ...  <NA>  <NA>   1.0   <NA>   \n3  <NA>  <NA>  <NA>   1.0     1     1     1  ...  <NA>  <NA>  <NA>   <NA>   \n\n  C6 - b C6 - c  C6-d  C6-e  C7-a  C7-b  \n0      1      1     1  <NA>     1     1  \n1      1   <NA>  <NA>  <NA>     1     1  \n1      1   <NA>  <NA>  <NA>     1     1  \n2   <NA>   <NA>  <NA>  <NA>  <NA>  <NA>  \n3   <NA>      1  <NA>  <NA>     1  <NA>  \n\n[5 rows x 23 columns]",
      "text/html": "<div>\n<style scoped>\n    .dataframe tbody tr th:only-of-type {\n        vertical-align: middle;\n    }\n\n    .dataframe tbody tr th {\n        vertical-align: top;\n    }\n\n    .dataframe thead th {\n        text-align: right;\n    }\n</style>\n<table border=\"1\" class=\"dataframe\">\n  <thead>\n    <tr style=\"text-align: right;\">\n      <th></th>\n      <th>Dataset</th>\n      <th>Source of Content</th>\n      <th>Target Issue</th>\n      <th>C1</th>\n      <th>C2</th>\n      <th>C3</th>\n      <th>C4</th>\n      <th>C5-a</th>\n      <th>C5-b</th>\n      <th>C5-c</th>\n      <th>...</th>\n      <th>C5-g</th>\n      <th>C5-h</th>\n      <th>C5-i</th>\n      <th>C6 - a</th>\n      <th>C6 - b</th>\n      <th>C6 - c</th>\n      <th>C6-d</th>\n      <th>C6-e</th>\n      <th>C7-a</th>\n      <th>C7-b</th>\n    </tr>\n  </thead>\n  <tbody>\n    <tr>\n      <th>0</th>\n      <td>Chinese Multimodal Depression Corpus (CMDC)</td>\n      <td>CI</td>\n      <td>DP</td>\n      <td>1.0</td>\n      <td>&lt;NA&gt;</td>\n      <td>1.0</td>\n      <td>1.0</td>\n      <td>1</td>\n      <td>1</td>\n      <td>1</td>\n      <td>...</td>\n      <td>&lt;NA&gt;</td>\n      <td>1</td>\n      <td>&lt;NA&gt;</td>\n      <td>1</td>\n      <td>1</td>\n      <td>1</td>\n      <td>1</td>\n      <td>&lt;NA&gt;</td>\n      <td>1</td>\n      <td>1</td>\n    </tr>\n    <tr>\n      <th>1</th>\n      <td>EMU</td>\n      <td>CS, SR, SS</td>\n      <td>AX</td>\n      <td>1.0</td>\n      <td>1.0</td>\n      <td>1.0</td>\n      <td>1.0</td>\n      <td>&lt;NA&gt;</td>\n      <td>&lt;NA&gt;</td>\n      <td>&lt;NA&gt;</td>\n      <td>...</td>\n      <td>&lt;NA&gt;</td>\n      <td>&lt;NA&gt;</td>\n      <td>1.0</td>\n      <td>&lt;NA&gt;</td>\n      <td>1</td>\n      <td>&lt;NA&gt;</td>\n      <td>&lt;NA&gt;</td>\n      <td>&lt;NA&gt;</td>\n      <td>1</td>\n      <td>1</td>\n    </tr>\n    <tr>\n      <th>1</th>\n      <td>EMU</td>\n      <td>CS, SR, SS</td>\n      <td>DP</td>\n      <td>1.0</td>\n      <td>1.0</td>\n      <td>1.0</td>\n      <td>1.0</td>\n      <td>&lt;NA&gt;</td>\n      <td>&lt;NA&gt;</td>\n      <td>&lt;NA&gt;</td>\n      <td>...</td>\n      <td>&lt;NA&gt;</td>\n      <td>&lt;NA&gt;</td>\n      <td>1.0</td>\n      <td>&lt;NA&gt;</td>\n      <td>1</td>\n      <td>&lt;NA&gt;</td>\n      <td>&lt;NA&gt;</td>\n      <td>&lt;NA&gt;</td>\n      <td>1</td>\n      <td>1</td>\n    </tr>\n    <tr>\n      <th>2</th>\n      <td>Moodable</td>\n      <td>CS, SR</td>\n      <td>DP</td>\n      <td>1.0</td>\n      <td>1.0</td>\n      <td>&lt;NA&gt;</td>\n      <td>&lt;NA&gt;</td>\n      <td>&lt;NA&gt;</td>\n      <td>&lt;NA&gt;</td>\n      <td>&lt;NA&gt;</td>\n      <td>...</td>\n      <td>&lt;NA&gt;</td>\n      <td>&lt;NA&gt;</td>\n      <td>1.0</td>\n      <td>&lt;NA&gt;</td>\n      <td>&lt;NA&gt;</td>\n      <td>&lt;NA&gt;</td>\n      <td>&lt;NA&gt;</td>\n      <td>&lt;NA&gt;</td>\n      <td>&lt;NA&gt;</td>\n      <td>&lt;NA&gt;</td>\n    </tr>\n    <tr>\n      <th>3</th>\n      <td>Jiang et al.</td>\n      <td>CI</td>\n      <td>DP</td>\n      <td>&lt;NA&gt;</td>\n      <td>&lt;NA&gt;</td>\n      <td>&lt;NA&gt;</td>\n      <td>1.0</td>\n      <td>1</td>\n      <td>1</td>\n      <td>1</td>\n      <td>...</td>\n      <td>&lt;NA&gt;</td>\n      <td>&lt;NA&gt;</td>\n      <td>&lt;NA&gt;</td>\n      <td>&lt;NA&gt;</td>\n      <td>&lt;NA&gt;</td>\n      <td>1</td>\n      <td>&lt;NA&gt;</td>\n      <td>&lt;NA&gt;</td>\n      <td>1</td>\n      <td>&lt;NA&gt;</td>\n    </tr>\n  </tbody>\n</table>\n<p>5 rows × 23 columns</p>\n</div>"
     },
     "execution_count": 37,
     "metadata": {},
     "output_type": "execute_result"
    }
   ],
   "source": [
    "\n",
    "# Convert float values to strings\n",
    "data['Target Issue'] = data['Target Issue'].astype(str)\n",
    "\n",
    "# Split the comma-separated values into a list of strings\n",
    "data['Target Issue'] = data['Target Issue'].str.split(',')\n",
    "\n",
    "# Strip leading and trailing whitespaces from each value in the list\n",
    "data['Target Issue'] = data['Target Issue'].apply(lambda x: [str(issue).strip() for issue in x])\n",
    "\n",
    "# Explode the 'Target Issue' column into separate rows\n",
    "data_expanded = data.explode('Target Issue')\n",
    "\n",
    "data_expanded.head()\n"
   ],
   "metadata": {
    "collapsed": false,
    "ExecuteTime": {
     "end_time": "2024-03-29T19:17:05.154052Z",
     "start_time": "2024-03-29T19:17:05.121362Z"
    }
   }
  },
  {
   "cell_type": "code",
   "execution_count": 38,
   "outputs": [
    {
     "data": {
      "text/plain": "              C1  C2  C3  C4  C5-a  C5-b  C5-c  C5-d  C5-e  C5-f  C5-g  C5-h   \nTarget Issue                                                                   \nAL             3   2   0   3     5     4     4     3     2     1     0     1  \\\nAX             2   1   1   2     3     3     3     1     3     0     0     2   \nBD             2   1   1   3     4     2     2     1     2     0     0     1   \nDM             0   0   0   0     2     2     1     1     0     0     0     1   \nDP            11   4   7   9    14    11     9     4    14     1     0     7   \nP              2   0   0   3     3     3     3     1     3     0     2     1   \nS              1   1   2   2     0     2     3     2     3     0     0     1   \nSSD            1   1   0   1     1     1     1     0     1     0     0     1   \n\n              C5-i  C6 - a  C6 - b  C6 - c  C6-d  C6-e  C7-a  C7-b  \nTarget Issue                                                        \nAL               1       2       2       2     0     1     3     3  \nAX               4       0       1       1     0     0     3     2  \nBD               0       1       0       4     2     0     2     1  \nDM               0       0       0       1     0     0     2     1  \nDP               6       4       6       8     6     0    13     8  \nP                0       2       0       2     0     0     3     2  \nS                0       2       0       0     0     0     4     2  \nSSD              0       1       0       0     0     0     1     0  ",
      "text/html": "<div>\n<style scoped>\n    .dataframe tbody tr th:only-of-type {\n        vertical-align: middle;\n    }\n\n    .dataframe tbody tr th {\n        vertical-align: top;\n    }\n\n    .dataframe thead th {\n        text-align: right;\n    }\n</style>\n<table border=\"1\" class=\"dataframe\">\n  <thead>\n    <tr style=\"text-align: right;\">\n      <th></th>\n      <th>C1</th>\n      <th>C2</th>\n      <th>C3</th>\n      <th>C4</th>\n      <th>C5-a</th>\n      <th>C5-b</th>\n      <th>C5-c</th>\n      <th>C5-d</th>\n      <th>C5-e</th>\n      <th>C5-f</th>\n      <th>C5-g</th>\n      <th>C5-h</th>\n      <th>C5-i</th>\n      <th>C6 - a</th>\n      <th>C6 - b</th>\n      <th>C6 - c</th>\n      <th>C6-d</th>\n      <th>C6-e</th>\n      <th>C7-a</th>\n      <th>C7-b</th>\n    </tr>\n    <tr>\n      <th>Target Issue</th>\n      <th></th>\n      <th></th>\n      <th></th>\n      <th></th>\n      <th></th>\n      <th></th>\n      <th></th>\n      <th></th>\n      <th></th>\n      <th></th>\n      <th></th>\n      <th></th>\n      <th></th>\n      <th></th>\n      <th></th>\n      <th></th>\n      <th></th>\n      <th></th>\n      <th></th>\n      <th></th>\n    </tr>\n  </thead>\n  <tbody>\n    <tr>\n      <th>AL</th>\n      <td>3</td>\n      <td>2</td>\n      <td>0</td>\n      <td>3</td>\n      <td>5</td>\n      <td>4</td>\n      <td>4</td>\n      <td>3</td>\n      <td>2</td>\n      <td>1</td>\n      <td>0</td>\n      <td>1</td>\n      <td>1</td>\n      <td>2</td>\n      <td>2</td>\n      <td>2</td>\n      <td>0</td>\n      <td>1</td>\n      <td>3</td>\n      <td>3</td>\n    </tr>\n    <tr>\n      <th>AX</th>\n      <td>2</td>\n      <td>1</td>\n      <td>1</td>\n      <td>2</td>\n      <td>3</td>\n      <td>3</td>\n      <td>3</td>\n      <td>1</td>\n      <td>3</td>\n      <td>0</td>\n      <td>0</td>\n      <td>2</td>\n      <td>4</td>\n      <td>0</td>\n      <td>1</td>\n      <td>1</td>\n      <td>0</td>\n      <td>0</td>\n      <td>3</td>\n      <td>2</td>\n    </tr>\n    <tr>\n      <th>BD</th>\n      <td>2</td>\n      <td>1</td>\n      <td>1</td>\n      <td>3</td>\n      <td>4</td>\n      <td>2</td>\n      <td>2</td>\n      <td>1</td>\n      <td>2</td>\n      <td>0</td>\n      <td>0</td>\n      <td>1</td>\n      <td>0</td>\n      <td>1</td>\n      <td>0</td>\n      <td>4</td>\n      <td>2</td>\n      <td>0</td>\n      <td>2</td>\n      <td>1</td>\n    </tr>\n    <tr>\n      <th>DM</th>\n      <td>0</td>\n      <td>0</td>\n      <td>0</td>\n      <td>0</td>\n      <td>2</td>\n      <td>2</td>\n      <td>1</td>\n      <td>1</td>\n      <td>0</td>\n      <td>0</td>\n      <td>0</td>\n      <td>1</td>\n      <td>0</td>\n      <td>0</td>\n      <td>0</td>\n      <td>1</td>\n      <td>0</td>\n      <td>0</td>\n      <td>2</td>\n      <td>1</td>\n    </tr>\n    <tr>\n      <th>DP</th>\n      <td>11</td>\n      <td>4</td>\n      <td>7</td>\n      <td>9</td>\n      <td>14</td>\n      <td>11</td>\n      <td>9</td>\n      <td>4</td>\n      <td>14</td>\n      <td>1</td>\n      <td>0</td>\n      <td>7</td>\n      <td>6</td>\n      <td>4</td>\n      <td>6</td>\n      <td>8</td>\n      <td>6</td>\n      <td>0</td>\n      <td>13</td>\n      <td>8</td>\n    </tr>\n    <tr>\n      <th>P</th>\n      <td>2</td>\n      <td>0</td>\n      <td>0</td>\n      <td>3</td>\n      <td>3</td>\n      <td>3</td>\n      <td>3</td>\n      <td>1</td>\n      <td>3</td>\n      <td>0</td>\n      <td>2</td>\n      <td>1</td>\n      <td>0</td>\n      <td>2</td>\n      <td>0</td>\n      <td>2</td>\n      <td>0</td>\n      <td>0</td>\n      <td>3</td>\n      <td>2</td>\n    </tr>\n    <tr>\n      <th>S</th>\n      <td>1</td>\n      <td>1</td>\n      <td>2</td>\n      <td>2</td>\n      <td>0</td>\n      <td>2</td>\n      <td>3</td>\n      <td>2</td>\n      <td>3</td>\n      <td>0</td>\n      <td>0</td>\n      <td>1</td>\n      <td>0</td>\n      <td>2</td>\n      <td>0</td>\n      <td>0</td>\n      <td>0</td>\n      <td>0</td>\n      <td>4</td>\n      <td>2</td>\n    </tr>\n    <tr>\n      <th>SSD</th>\n      <td>1</td>\n      <td>1</td>\n      <td>0</td>\n      <td>1</td>\n      <td>1</td>\n      <td>1</td>\n      <td>1</td>\n      <td>0</td>\n      <td>1</td>\n      <td>0</td>\n      <td>0</td>\n      <td>1</td>\n      <td>0</td>\n      <td>1</td>\n      <td>0</td>\n      <td>0</td>\n      <td>0</td>\n      <td>0</td>\n      <td>1</td>\n      <td>0</td>\n    </tr>\n  </tbody>\n</table>\n</div>"
     },
     "execution_count": 38,
     "metadata": {},
     "output_type": "execute_result"
    }
   ],
   "source": [
    "# produce counts for columns from 3 to the end of the dataframe grouping by the 'Target Issue' column\n",
    "data_expanded.iloc[:, 2:].groupby('Target Issue').count()"
   ],
   "metadata": {
    "collapsed": false,
    "ExecuteTime": {
     "end_time": "2024-03-29T19:17:23.361187Z",
     "start_time": "2024-03-29T19:17:23.348697Z"
    }
   }
  },
  {
   "cell_type": "code",
   "execution_count": 39,
   "outputs": [
    {
     "data": {
      "text/plain": "Target Issue\nDP     17\nAL      5\nAX      4\nBD      4\nS       4\nP       4\nDM      2\nSSD     1\nName: count, dtype: int64"
     },
     "execution_count": 39,
     "metadata": {},
     "output_type": "execute_result"
    }
   ],
   "source": [
    "# i want to produce not the count but the percentage with respect to the total number of rows that have that specific target issue\n",
    "# so i will divide the counts by the total number of rows for each target issue\n",
    "# first i will calculate the total number of rows for each target issue\n",
    "total_rows = data_expanded['Target Issue'].value_counts()\n",
    "total_rows"
   ],
   "metadata": {
    "collapsed": false,
    "ExecuteTime": {
     "end_time": "2024-03-29T19:18:36.121729Z",
     "start_time": "2024-03-29T19:18:36.101040Z"
    }
   }
  },
  {
   "cell_type": "code",
   "execution_count": 52,
   "outputs": [],
   "source": [
    "# produce counts for columns from 3 to the end of the dataframe grouping by the 'Target Issue' column, transpose the table and add at the beginning the total number of rows for each target issue\n",
    "proportions = data_expanded.iloc[:, 2:].groupby('Target Issue').count().T\n",
    "\n",
    "# save the proportions as a csv file\n",
    "proportions.to_csv('output_files/proportions.csv', sep=';')"
   ],
   "metadata": {
    "collapsed": false,
    "ExecuteTime": {
     "end_time": "2024-03-29T19:52:59.286628Z",
     "start_time": "2024-03-29T19:52:59.284636Z"
    }
   }
  },
  {
   "cell_type": "code",
   "execution_count": 7,
   "outputs": [
    {
     "name": "stderr",
     "output_type": "stream",
     "text": [
      "/var/folders/3r/k5w9v9d10bv9rdk344tcx6ww0000gn/T/ipykernel_74686/2767648637.py:21: MatplotlibDeprecationWarning: The get_cmap function was deprecated in Matplotlib 3.7 and will be removed two minor releases later. Use ``matplotlib.colormaps[name]`` or ``matplotlib.colormaps.get_cmap(obj)`` instead.\n",
      "  colors = plt.cm.get_cmap('tab20', len(sorted_target_issues))\n"
     ]
    }
   ],
   "source": [
    "import os\n",
    "import matplotlib.pyplot as plt\n",
    "from matplotlib.ticker import MultipleLocator\n",
    "\n",
    "import numpy as np\n",
    "\n",
    "# Create a folder for saving figures if it doesn't exist\n",
    "output_folder = 'output_figures'\n",
    "os.makedirs(output_folder, exist_ok=True)\n",
    "\n",
    "# Calculate the proportions\n",
    "proportions = data_expanded.iloc[:, 2:].groupby('Target Issue').count().T\n",
    "\n",
    "# Get unique Target Issues\n",
    "unique_target_issues = data_expanded['Target Issue'].unique()\n",
    "\n",
    "# Sort Target Issues by mean values in descending order\n",
    "sorted_target_issues = proportions.mean().sort_values(ascending=False).index\n",
    "\n",
    "# Define a colormap\n",
    "colors = plt.cm.get_cmap('tab20', len(sorted_target_issues))\n",
    "\n",
    "# Plot each 'Target Issue' separately\n",
    "for i, target_issue in enumerate(sorted_target_issues):\n",
    "    fig, ax = plt.subplots(figsize=(10, 5))\n",
    "\n",
    "    # Select data for the specific 'Target Issue' and reverse the order\n",
    "    target_issue_data = proportions[target_issue][::-1]\n",
    "\n",
    "    # Plot the data with different colors and integer numbers on the x-axis\n",
    "    #target_issue_data.plot(kind='barh', width=0.8, ax=ax, color=[colors(j) for j in range(len(target_issue_data))])\n",
    "    target_issue_data.plot(kind='barh', width=0.8, ax=ax, color='black')\n",
    "\n",
    "    # Set title and labels\n",
    "    ax.set_title(f'Ethical Checklist Items Count for {target_issue}')\n",
    "    ax.set_xlabel('Counts')\n",
    "    ax.set_ylabel('Ethical Checklist Items')\n",
    "\n",
    "    # Set integer numbers on the x-axis\n",
    "\n",
    "    ax.xaxis.set_major_locator(MultipleLocator(1))\n",
    "\n",
    "    # Save the figure in the 'output_figures' folder\n",
    "    output_filename = os.path.join(output_folder, f'figure_{i + 1}_{target_issue}.png')\n",
    "    plt.savefig(output_filename)\n",
    "\n",
    "    plt.close()  # Close the figure to release resources\n"
   ],
   "metadata": {
    "collapsed": false
   }
  },
  {
   "cell_type": "code",
   "execution_count": 46,
   "outputs": [
    {
     "name": "stderr",
     "output_type": "stream",
     "text": [
      "/var/folders/3r/k5w9v9d10bv9rdk344tcx6ww0000gn/T/ipykernel_49186/801652942.py:21: MatplotlibDeprecationWarning: The get_cmap function was deprecated in Matplotlib 3.7 and will be removed two minor releases later. Use ``matplotlib.colormaps[name]`` or ``matplotlib.colormaps.get_cmap(obj)`` instead.\n",
      "  colors = plt.cm.get_cmap('tab20', len(sorted_target_issues))\n"
     ]
    }
   ],
   "source": [
    "import os\n",
    "import matplotlib.pyplot as plt\n",
    "from matplotlib.ticker import MultipleLocator\n",
    "\n",
    "import numpy as np\n",
    "\n",
    "# Create a folder for saving figures if it doesn't exist\n",
    "output_folder = 'output_figures'\n",
    "os.makedirs(output_folder, exist_ok=True)\n",
    "\n",
    "# Calculate the proportions\n",
    "proportions = data_expanded.iloc[:, 2:].groupby('Target Issue').count().T\n",
    "\n",
    "# Get unique Target Issues\n",
    "unique_target_issues = data_expanded['Target Issue'].unique()\n",
    "\n",
    "# Sort Target Issues by mean values in descending order\n",
    "sorted_target_issues = proportions.mean().sort_values(ascending=False).index\n",
    "\n",
    "# Define a colormap\n",
    "colors = plt.cm.get_cmap('tab20', len(sorted_target_issues))\n",
    "\n",
    "# Plot each 'Target Issue' separately\n",
    "for i, target_issue in enumerate(sorted_target_issues):\n",
    "    fig, ax = plt.subplots(figsize=(10, 5))\n",
    "\n",
    "    # Select data for the specific 'Target Issue' and reverse the order\n",
    "    target_issue_data = proportions[target_issue][::-1]\n",
    "\n",
    "    # Plot the data with different colors and integer numbers on the x-axis\n",
    "    # target_issue_data.plot(kind='barh', width=0.8, ax=ax, color=[colors(j) for j in range(len(target_issue_data))])\n",
    "    target_issue_data.plot(kind='barh', width=0.8, ax=ax, color='black')\n",
    "\n",
    "    # Set title and labels\n",
    "    ax.set_xlabel('Counts')\n",
    "    ax.set_ylabel('Checklist Items')\n",
    "\n",
    "    # Set integer numbers on the x-axis\n",
    "    ax.xaxis.set_major_locator(MultipleLocator(1))\n",
    "\n",
    "    # Set the maximum limit on the x-axis to the total number of items for this target issue\n",
    "    # count in data number of rows for this target issue and set it as the maximum limit on the x-axis\n",
    "    ax.set_xlim(0, data_expanded['Target Issue'].value_counts()[target_issue])\n",
    "\n",
    "    # Save the figure in the 'output_figures' folder\n",
    "    output_filename = os.path.join(output_folder, f'figure_{i + 1}_{target_issue}.png')\n",
    "    plt.savefig(output_filename)\n",
    "\n",
    "    plt.close()  # Close the figure to release resources\n"
   ],
   "metadata": {
    "collapsed": false,
    "ExecuteTime": {
     "end_time": "2024-03-29T19:45:41.014645Z",
     "start_time": "2024-03-29T19:45:40.344409Z"
    }
   }
  },
  {
   "cell_type": "markdown",
   "source": [
    "# Source Analysis"
   ],
   "metadata": {
    "collapsed": false
   }
  },
  {
   "cell_type": "code",
   "execution_count": 119,
   "outputs": [
    {
     "data": {
      "text/plain": "                                       Dataset Source of Content Target Issue   \n0  Chinese Multimodal Depression Corpus (CMDC)                CI           DP  \\\n1                                          EMU                CS       AX, DP   \n1                                          EMU                SR       AX, DP   \n1                                          EMU                SS       AX, DP   \n2                                     Moodable                CS           DP   \n\n    C1    C2    C3    C4  C5-a  C5-b  C5-c  ...  C5-g  C5-h  C5-i C6 - a   \n0  1.0  <NA>   1.0   1.0     1     1     1  ...  <NA>     1  <NA>      1  \\\n1  1.0   1.0   1.0   1.0  <NA>  <NA>  <NA>  ...  <NA>  <NA>   1.0   <NA>   \n1  1.0   1.0   1.0   1.0  <NA>  <NA>  <NA>  ...  <NA>  <NA>   1.0   <NA>   \n1  1.0   1.0   1.0   1.0  <NA>  <NA>  <NA>  ...  <NA>  <NA>   1.0   <NA>   \n2  1.0   1.0  <NA>  <NA>  <NA>  <NA>  <NA>  ...  <NA>  <NA>   1.0   <NA>   \n\n  C6 - b C6 - c  C6-d  C6-e  C7-a  C7-b  \n0      1      1     1  <NA>     1     1  \n1      1   <NA>  <NA>  <NA>     1     1  \n1      1   <NA>  <NA>  <NA>     1     1  \n1      1   <NA>  <NA>  <NA>     1     1  \n2   <NA>   <NA>  <NA>  <NA>  <NA>  <NA>  \n\n[5 rows x 23 columns]",
      "text/html": "<div>\n<style scoped>\n    .dataframe tbody tr th:only-of-type {\n        vertical-align: middle;\n    }\n\n    .dataframe tbody tr th {\n        vertical-align: top;\n    }\n\n    .dataframe thead th {\n        text-align: right;\n    }\n</style>\n<table border=\"1\" class=\"dataframe\">\n  <thead>\n    <tr style=\"text-align: right;\">\n      <th></th>\n      <th>Dataset</th>\n      <th>Source of Content</th>\n      <th>Target Issue</th>\n      <th>C1</th>\n      <th>C2</th>\n      <th>C3</th>\n      <th>C4</th>\n      <th>C5-a</th>\n      <th>C5-b</th>\n      <th>C5-c</th>\n      <th>...</th>\n      <th>C5-g</th>\n      <th>C5-h</th>\n      <th>C5-i</th>\n      <th>C6 - a</th>\n      <th>C6 - b</th>\n      <th>C6 - c</th>\n      <th>C6-d</th>\n      <th>C6-e</th>\n      <th>C7-a</th>\n      <th>C7-b</th>\n    </tr>\n  </thead>\n  <tbody>\n    <tr>\n      <th>0</th>\n      <td>Chinese Multimodal Depression Corpus (CMDC)</td>\n      <td>CI</td>\n      <td>DP</td>\n      <td>1.0</td>\n      <td>&lt;NA&gt;</td>\n      <td>1.0</td>\n      <td>1.0</td>\n      <td>1</td>\n      <td>1</td>\n      <td>1</td>\n      <td>...</td>\n      <td>&lt;NA&gt;</td>\n      <td>1</td>\n      <td>&lt;NA&gt;</td>\n      <td>1</td>\n      <td>1</td>\n      <td>1</td>\n      <td>1</td>\n      <td>&lt;NA&gt;</td>\n      <td>1</td>\n      <td>1</td>\n    </tr>\n    <tr>\n      <th>1</th>\n      <td>EMU</td>\n      <td>CS</td>\n      <td>AX, DP</td>\n      <td>1.0</td>\n      <td>1.0</td>\n      <td>1.0</td>\n      <td>1.0</td>\n      <td>&lt;NA&gt;</td>\n      <td>&lt;NA&gt;</td>\n      <td>&lt;NA&gt;</td>\n      <td>...</td>\n      <td>&lt;NA&gt;</td>\n      <td>&lt;NA&gt;</td>\n      <td>1.0</td>\n      <td>&lt;NA&gt;</td>\n      <td>1</td>\n      <td>&lt;NA&gt;</td>\n      <td>&lt;NA&gt;</td>\n      <td>&lt;NA&gt;</td>\n      <td>1</td>\n      <td>1</td>\n    </tr>\n    <tr>\n      <th>1</th>\n      <td>EMU</td>\n      <td>SR</td>\n      <td>AX, DP</td>\n      <td>1.0</td>\n      <td>1.0</td>\n      <td>1.0</td>\n      <td>1.0</td>\n      <td>&lt;NA&gt;</td>\n      <td>&lt;NA&gt;</td>\n      <td>&lt;NA&gt;</td>\n      <td>...</td>\n      <td>&lt;NA&gt;</td>\n      <td>&lt;NA&gt;</td>\n      <td>1.0</td>\n      <td>&lt;NA&gt;</td>\n      <td>1</td>\n      <td>&lt;NA&gt;</td>\n      <td>&lt;NA&gt;</td>\n      <td>&lt;NA&gt;</td>\n      <td>1</td>\n      <td>1</td>\n    </tr>\n    <tr>\n      <th>1</th>\n      <td>EMU</td>\n      <td>SS</td>\n      <td>AX, DP</td>\n      <td>1.0</td>\n      <td>1.0</td>\n      <td>1.0</td>\n      <td>1.0</td>\n      <td>&lt;NA&gt;</td>\n      <td>&lt;NA&gt;</td>\n      <td>&lt;NA&gt;</td>\n      <td>...</td>\n      <td>&lt;NA&gt;</td>\n      <td>&lt;NA&gt;</td>\n      <td>1.0</td>\n      <td>&lt;NA&gt;</td>\n      <td>1</td>\n      <td>&lt;NA&gt;</td>\n      <td>&lt;NA&gt;</td>\n      <td>&lt;NA&gt;</td>\n      <td>1</td>\n      <td>1</td>\n    </tr>\n    <tr>\n      <th>2</th>\n      <td>Moodable</td>\n      <td>CS</td>\n      <td>DP</td>\n      <td>1.0</td>\n      <td>1.0</td>\n      <td>&lt;NA&gt;</td>\n      <td>&lt;NA&gt;</td>\n      <td>&lt;NA&gt;</td>\n      <td>&lt;NA&gt;</td>\n      <td>&lt;NA&gt;</td>\n      <td>...</td>\n      <td>&lt;NA&gt;</td>\n      <td>&lt;NA&gt;</td>\n      <td>1.0</td>\n      <td>&lt;NA&gt;</td>\n      <td>&lt;NA&gt;</td>\n      <td>&lt;NA&gt;</td>\n      <td>&lt;NA&gt;</td>\n      <td>&lt;NA&gt;</td>\n      <td>&lt;NA&gt;</td>\n      <td>&lt;NA&gt;</td>\n    </tr>\n  </tbody>\n</table>\n<p>5 rows × 23 columns</p>\n</div>"
     },
     "execution_count": 119,
     "metadata": {},
     "output_type": "execute_result"
    }
   ],
   "source": [
    "# Convert float values to strings\n",
    "data['Source of Content'] = data['Source of Content'].astype(str)\n",
    "\n",
    "# Split the comma-separated values into a list of strings\n",
    "data['Source of Content'] = data['Source of Content'].str.split(',')\n",
    "\n",
    "# Strip leading and trailing whitespaces from each value in the list\n",
    "data['Source of Content'] = data['Source of Content'].apply(lambda x: [str(issue).strip() for issue in x])\n",
    "\n",
    "# Explode the 'Target Issue' column into separate rows\n",
    "data_expanded = data.explode('Source of Content')\n",
    "\n",
    "data_expanded.head()"
   ],
   "metadata": {
    "collapsed": false,
    "ExecuteTime": {
     "end_time": "2024-03-30T10:53:50.146586Z",
     "start_time": "2024-03-30T10:53:50.141676Z"
    }
   }
  },
  {
   "cell_type": "code",
   "execution_count": 120,
   "outputs": [
    {
     "data": {
      "text/plain": "Source of Content\nCI     17\nST      8\nSR      7\nSS      7\nCS      5\nYT      2\nSFT     1\nName: count, dtype: int64"
     },
     "execution_count": 120,
     "metadata": {},
     "output_type": "execute_result"
    }
   ],
   "source": [
    "data_expanded['Source of Content'].value_counts()"
   ],
   "metadata": {
    "collapsed": false,
    "ExecuteTime": {
     "end_time": "2024-03-30T10:53:52.100396Z",
     "start_time": "2024-03-30T10:53:52.090569Z"
    }
   }
  },
  {
   "cell_type": "code",
   "execution_count": 121,
   "outputs": [
    {
     "data": {
      "text/plain": "                                       Dataset Source of Content   C1    C2   \n0  Chinese Multimodal Depression Corpus (CMDC)                CI  1.0  <NA>  \\\n1                                          EMU                CS  1.0   1.0   \n1                                          EMU                SR  1.0   1.0   \n1                                          EMU                SS  1.0   1.0   \n2                                     Moodable                CS  1.0   1.0   \n\n     C3    C4  C5-a  C5-b  C5-c  C5-d  ...  C5-g  C5-h  C5-i C6 - a C6 - b   \n0   1.0   1.0     1     1     1  <NA>  ...  <NA>     1  <NA>      1      1  \\\n1   1.0   1.0  <NA>  <NA>  <NA>  <NA>  ...  <NA>  <NA>   1.0   <NA>      1   \n1   1.0   1.0  <NA>  <NA>  <NA>  <NA>  ...  <NA>  <NA>   1.0   <NA>      1   \n1   1.0   1.0  <NA>  <NA>  <NA>  <NA>  ...  <NA>  <NA>   1.0   <NA>      1   \n2  <NA>  <NA>  <NA>  <NA>  <NA>  <NA>  ...  <NA>  <NA>   1.0   <NA>   <NA>   \n\n  C6 - c  C6-d  C6-e  C7-a  C7-b  \n0      1     1  <NA>     1     1  \n1   <NA>  <NA>  <NA>     1     1  \n1   <NA>  <NA>  <NA>     1     1  \n1   <NA>  <NA>  <NA>     1     1  \n2   <NA>  <NA>  <NA>  <NA>  <NA>  \n\n[5 rows x 22 columns]",
      "text/html": "<div>\n<style scoped>\n    .dataframe tbody tr th:only-of-type {\n        vertical-align: middle;\n    }\n\n    .dataframe tbody tr th {\n        vertical-align: top;\n    }\n\n    .dataframe thead th {\n        text-align: right;\n    }\n</style>\n<table border=\"1\" class=\"dataframe\">\n  <thead>\n    <tr style=\"text-align: right;\">\n      <th></th>\n      <th>Dataset</th>\n      <th>Source of Content</th>\n      <th>C1</th>\n      <th>C2</th>\n      <th>C3</th>\n      <th>C4</th>\n      <th>C5-a</th>\n      <th>C5-b</th>\n      <th>C5-c</th>\n      <th>C5-d</th>\n      <th>...</th>\n      <th>C5-g</th>\n      <th>C5-h</th>\n      <th>C5-i</th>\n      <th>C6 - a</th>\n      <th>C6 - b</th>\n      <th>C6 - c</th>\n      <th>C6-d</th>\n      <th>C6-e</th>\n      <th>C7-a</th>\n      <th>C7-b</th>\n    </tr>\n  </thead>\n  <tbody>\n    <tr>\n      <th>0</th>\n      <td>Chinese Multimodal Depression Corpus (CMDC)</td>\n      <td>CI</td>\n      <td>1.0</td>\n      <td>&lt;NA&gt;</td>\n      <td>1.0</td>\n      <td>1.0</td>\n      <td>1</td>\n      <td>1</td>\n      <td>1</td>\n      <td>&lt;NA&gt;</td>\n      <td>...</td>\n      <td>&lt;NA&gt;</td>\n      <td>1</td>\n      <td>&lt;NA&gt;</td>\n      <td>1</td>\n      <td>1</td>\n      <td>1</td>\n      <td>1</td>\n      <td>&lt;NA&gt;</td>\n      <td>1</td>\n      <td>1</td>\n    </tr>\n    <tr>\n      <th>1</th>\n      <td>EMU</td>\n      <td>CS</td>\n      <td>1.0</td>\n      <td>1.0</td>\n      <td>1.0</td>\n      <td>1.0</td>\n      <td>&lt;NA&gt;</td>\n      <td>&lt;NA&gt;</td>\n      <td>&lt;NA&gt;</td>\n      <td>&lt;NA&gt;</td>\n      <td>...</td>\n      <td>&lt;NA&gt;</td>\n      <td>&lt;NA&gt;</td>\n      <td>1.0</td>\n      <td>&lt;NA&gt;</td>\n      <td>1</td>\n      <td>&lt;NA&gt;</td>\n      <td>&lt;NA&gt;</td>\n      <td>&lt;NA&gt;</td>\n      <td>1</td>\n      <td>1</td>\n    </tr>\n    <tr>\n      <th>1</th>\n      <td>EMU</td>\n      <td>SR</td>\n      <td>1.0</td>\n      <td>1.0</td>\n      <td>1.0</td>\n      <td>1.0</td>\n      <td>&lt;NA&gt;</td>\n      <td>&lt;NA&gt;</td>\n      <td>&lt;NA&gt;</td>\n      <td>&lt;NA&gt;</td>\n      <td>...</td>\n      <td>&lt;NA&gt;</td>\n      <td>&lt;NA&gt;</td>\n      <td>1.0</td>\n      <td>&lt;NA&gt;</td>\n      <td>1</td>\n      <td>&lt;NA&gt;</td>\n      <td>&lt;NA&gt;</td>\n      <td>&lt;NA&gt;</td>\n      <td>1</td>\n      <td>1</td>\n    </tr>\n    <tr>\n      <th>1</th>\n      <td>EMU</td>\n      <td>SS</td>\n      <td>1.0</td>\n      <td>1.0</td>\n      <td>1.0</td>\n      <td>1.0</td>\n      <td>&lt;NA&gt;</td>\n      <td>&lt;NA&gt;</td>\n      <td>&lt;NA&gt;</td>\n      <td>&lt;NA&gt;</td>\n      <td>...</td>\n      <td>&lt;NA&gt;</td>\n      <td>&lt;NA&gt;</td>\n      <td>1.0</td>\n      <td>&lt;NA&gt;</td>\n      <td>1</td>\n      <td>&lt;NA&gt;</td>\n      <td>&lt;NA&gt;</td>\n      <td>&lt;NA&gt;</td>\n      <td>1</td>\n      <td>1</td>\n    </tr>\n    <tr>\n      <th>2</th>\n      <td>Moodable</td>\n      <td>CS</td>\n      <td>1.0</td>\n      <td>1.0</td>\n      <td>&lt;NA&gt;</td>\n      <td>&lt;NA&gt;</td>\n      <td>&lt;NA&gt;</td>\n      <td>&lt;NA&gt;</td>\n      <td>&lt;NA&gt;</td>\n      <td>&lt;NA&gt;</td>\n      <td>...</td>\n      <td>&lt;NA&gt;</td>\n      <td>&lt;NA&gt;</td>\n      <td>1.0</td>\n      <td>&lt;NA&gt;</td>\n      <td>&lt;NA&gt;</td>\n      <td>&lt;NA&gt;</td>\n      <td>&lt;NA&gt;</td>\n      <td>&lt;NA&gt;</td>\n      <td>&lt;NA&gt;</td>\n      <td>&lt;NA&gt;</td>\n    </tr>\n  </tbody>\n</table>\n<p>5 rows × 22 columns</p>\n</div>"
     },
     "execution_count": 121,
     "metadata": {},
     "output_type": "execute_result"
    }
   ],
   "source": [
    "# drop 'Target Issue' column\n",
    "data_expanded.drop(columns = 'Target Issue', inplace = True)\n",
    "data_expanded.head()"
   ],
   "metadata": {
    "collapsed": false,
    "ExecuteTime": {
     "end_time": "2024-03-30T10:53:53.675523Z",
     "start_time": "2024-03-30T10:53:53.662952Z"
    }
   }
  },
  {
   "cell_type": "code",
   "execution_count": 122,
   "outputs": [
    {
     "data": {
      "text/plain": "                   C1  C2  C3  C4  C5-a  C5-b  C5-c  C5-d  C5-e  C5-f  C5-g   \nSource of Content                                                             \nCI                 12   3   6  10    16    13    10     5    14     1     0  \\\nCS                  3   3   2   3     3     3     2     2     3     1     0   \nSFT                 1   0   0   1     1     1     1     1     1     0     1   \nSR                  6   3   2   6     5     5     5     3     3     1     1   \nSS                  2   3   1   4     6     4     3     1     2     0     1   \nST                  3   2   2   4     4     6     6     3     5     0     1   \nYT                  0   0   1   0     1     0     1     0     1     0     0   \n\n                   C5-h  C5-i  C6 - a  C6 - b  C6 - c  C6-d  C6-e  C7-a  C7-b  \nSource of Content                                                              \nCI                    7     2       5       5      12     8     0    14     7  \nCS                    2     5       0       2       1     0     0     3     2  \nSFT                   0     0       0       0       0     0     0     1     0  \nSR                    2     3       4       3       4     1     1     6     6  \nSS                    2     2       2       2       3     0     0     5     4  \nST                    4     0       4       0       2     0     0     8     4  \nYT                    0     0       0       0       0     0     0     0     0  ",
      "text/html": "<div>\n<style scoped>\n    .dataframe tbody tr th:only-of-type {\n        vertical-align: middle;\n    }\n\n    .dataframe tbody tr th {\n        vertical-align: top;\n    }\n\n    .dataframe thead th {\n        text-align: right;\n    }\n</style>\n<table border=\"1\" class=\"dataframe\">\n  <thead>\n    <tr style=\"text-align: right;\">\n      <th></th>\n      <th>C1</th>\n      <th>C2</th>\n      <th>C3</th>\n      <th>C4</th>\n      <th>C5-a</th>\n      <th>C5-b</th>\n      <th>C5-c</th>\n      <th>C5-d</th>\n      <th>C5-e</th>\n      <th>C5-f</th>\n      <th>C5-g</th>\n      <th>C5-h</th>\n      <th>C5-i</th>\n      <th>C6 - a</th>\n      <th>C6 - b</th>\n      <th>C6 - c</th>\n      <th>C6-d</th>\n      <th>C6-e</th>\n      <th>C7-a</th>\n      <th>C7-b</th>\n    </tr>\n    <tr>\n      <th>Source of Content</th>\n      <th></th>\n      <th></th>\n      <th></th>\n      <th></th>\n      <th></th>\n      <th></th>\n      <th></th>\n      <th></th>\n      <th></th>\n      <th></th>\n      <th></th>\n      <th></th>\n      <th></th>\n      <th></th>\n      <th></th>\n      <th></th>\n      <th></th>\n      <th></th>\n      <th></th>\n      <th></th>\n    </tr>\n  </thead>\n  <tbody>\n    <tr>\n      <th>CI</th>\n      <td>12</td>\n      <td>3</td>\n      <td>6</td>\n      <td>10</td>\n      <td>16</td>\n      <td>13</td>\n      <td>10</td>\n      <td>5</td>\n      <td>14</td>\n      <td>1</td>\n      <td>0</td>\n      <td>7</td>\n      <td>2</td>\n      <td>5</td>\n      <td>5</td>\n      <td>12</td>\n      <td>8</td>\n      <td>0</td>\n      <td>14</td>\n      <td>7</td>\n    </tr>\n    <tr>\n      <th>CS</th>\n      <td>3</td>\n      <td>3</td>\n      <td>2</td>\n      <td>3</td>\n      <td>3</td>\n      <td>3</td>\n      <td>2</td>\n      <td>2</td>\n      <td>3</td>\n      <td>1</td>\n      <td>0</td>\n      <td>2</td>\n      <td>5</td>\n      <td>0</td>\n      <td>2</td>\n      <td>1</td>\n      <td>0</td>\n      <td>0</td>\n      <td>3</td>\n      <td>2</td>\n    </tr>\n    <tr>\n      <th>SFT</th>\n      <td>1</td>\n      <td>0</td>\n      <td>0</td>\n      <td>1</td>\n      <td>1</td>\n      <td>1</td>\n      <td>1</td>\n      <td>1</td>\n      <td>1</td>\n      <td>0</td>\n      <td>1</td>\n      <td>0</td>\n      <td>0</td>\n      <td>0</td>\n      <td>0</td>\n      <td>0</td>\n      <td>0</td>\n      <td>0</td>\n      <td>1</td>\n      <td>0</td>\n    </tr>\n    <tr>\n      <th>SR</th>\n      <td>6</td>\n      <td>3</td>\n      <td>2</td>\n      <td>6</td>\n      <td>5</td>\n      <td>5</td>\n      <td>5</td>\n      <td>3</td>\n      <td>3</td>\n      <td>1</td>\n      <td>1</td>\n      <td>2</td>\n      <td>3</td>\n      <td>4</td>\n      <td>3</td>\n      <td>4</td>\n      <td>1</td>\n      <td>1</td>\n      <td>6</td>\n      <td>6</td>\n    </tr>\n    <tr>\n      <th>SS</th>\n      <td>2</td>\n      <td>3</td>\n      <td>1</td>\n      <td>4</td>\n      <td>6</td>\n      <td>4</td>\n      <td>3</td>\n      <td>1</td>\n      <td>2</td>\n      <td>0</td>\n      <td>1</td>\n      <td>2</td>\n      <td>2</td>\n      <td>2</td>\n      <td>2</td>\n      <td>3</td>\n      <td>0</td>\n      <td>0</td>\n      <td>5</td>\n      <td>4</td>\n    </tr>\n    <tr>\n      <th>ST</th>\n      <td>3</td>\n      <td>2</td>\n      <td>2</td>\n      <td>4</td>\n      <td>4</td>\n      <td>6</td>\n      <td>6</td>\n      <td>3</td>\n      <td>5</td>\n      <td>0</td>\n      <td>1</td>\n      <td>4</td>\n      <td>0</td>\n      <td>4</td>\n      <td>0</td>\n      <td>2</td>\n      <td>0</td>\n      <td>0</td>\n      <td>8</td>\n      <td>4</td>\n    </tr>\n    <tr>\n      <th>YT</th>\n      <td>0</td>\n      <td>0</td>\n      <td>1</td>\n      <td>0</td>\n      <td>1</td>\n      <td>0</td>\n      <td>1</td>\n      <td>0</td>\n      <td>1</td>\n      <td>0</td>\n      <td>0</td>\n      <td>0</td>\n      <td>0</td>\n      <td>0</td>\n      <td>0</td>\n      <td>0</td>\n      <td>0</td>\n      <td>0</td>\n      <td>0</td>\n      <td>0</td>\n    </tr>\n  </tbody>\n</table>\n</div>"
     },
     "execution_count": 122,
     "metadata": {},
     "output_type": "execute_result"
    }
   ],
   "source": [
    "data_expanded.iloc[:, 1:].groupby('Source of Content').count()\n"
   ],
   "metadata": {
    "collapsed": false,
    "ExecuteTime": {
     "end_time": "2024-03-30T10:53:55.295706Z",
     "start_time": "2024-03-30T10:53:55.290146Z"
    }
   }
  },
  {
   "cell_type": "code",
   "execution_count": 123,
   "outputs": [
    {
     "data": {
      "text/plain": "Source of Content  CI  CS  SFT  SR  SS  ST  YT\nC1                 12   3    1   6   2   3   0\nC2                  3   3    0   3   3   2   0\nC3                  6   2    0   2   1   2   1\nC4                 10   3    1   6   4   4   0\nC5-a               16   3    1   5   6   4   1",
      "text/html": "<div>\n<style scoped>\n    .dataframe tbody tr th:only-of-type {\n        vertical-align: middle;\n    }\n\n    .dataframe tbody tr th {\n        vertical-align: top;\n    }\n\n    .dataframe thead th {\n        text-align: right;\n    }\n</style>\n<table border=\"1\" class=\"dataframe\">\n  <thead>\n    <tr style=\"text-align: right;\">\n      <th>Source of Content</th>\n      <th>CI</th>\n      <th>CS</th>\n      <th>SFT</th>\n      <th>SR</th>\n      <th>SS</th>\n      <th>ST</th>\n      <th>YT</th>\n    </tr>\n  </thead>\n  <tbody>\n    <tr>\n      <th>C1</th>\n      <td>12</td>\n      <td>3</td>\n      <td>1</td>\n      <td>6</td>\n      <td>2</td>\n      <td>3</td>\n      <td>0</td>\n    </tr>\n    <tr>\n      <th>C2</th>\n      <td>3</td>\n      <td>3</td>\n      <td>0</td>\n      <td>3</td>\n      <td>3</td>\n      <td>2</td>\n      <td>0</td>\n    </tr>\n    <tr>\n      <th>C3</th>\n      <td>6</td>\n      <td>2</td>\n      <td>0</td>\n      <td>2</td>\n      <td>1</td>\n      <td>2</td>\n      <td>1</td>\n    </tr>\n    <tr>\n      <th>C4</th>\n      <td>10</td>\n      <td>3</td>\n      <td>1</td>\n      <td>6</td>\n      <td>4</td>\n      <td>4</td>\n      <td>0</td>\n    </tr>\n    <tr>\n      <th>C5-a</th>\n      <td>16</td>\n      <td>3</td>\n      <td>1</td>\n      <td>5</td>\n      <td>6</td>\n      <td>4</td>\n      <td>1</td>\n    </tr>\n  </tbody>\n</table>\n</div>"
     },
     "execution_count": 123,
     "metadata": {},
     "output_type": "execute_result"
    }
   ],
   "source": [
    "# transpose the table and order by the frequency of the source of content\n",
    "proportions = data_expanded.iloc[:, 1:].groupby('Source of Content').count().T\n",
    "proportions.head()"
   ],
   "metadata": {
    "collapsed": false,
    "ExecuteTime": {
     "end_time": "2024-03-30T10:53:56.091427Z",
     "start_time": "2024-03-30T10:53:56.084882Z"
    }
   }
  },
  {
   "cell_type": "code",
   "execution_count": 128,
   "outputs": [
    {
     "data": {
      "text/plain": "Source of Content  CI  CS  SFT  SR  SS  ST  YT\nC1                 12   3    1   6   2   3   0\nC2                  3   3    0   3   3   2   0\nC3                  6   2    0   2   1   2   1\nC4                 10   3    1   6   4   4   0\nC5-a               16   3    1   5   6   4   1\nC5-b               13   3    1   5   4   6   0\nC5-c               10   2    1   5   3   6   1\nC5-d                5   2    1   3   1   3   0\nC5-e               14   3    1   3   2   5   1\nC5-f                1   1    0   1   0   0   0\nC5-g                0   0    1   1   1   1   0\nC5-h                7   2    0   2   2   4   0\nC5-i                2   5    0   3   2   0   0\nC6 - a              5   0    0   4   2   4   0\nC6 - b              5   2    0   3   2   0   0\nC6 - c             12   1    0   4   3   2   0\nC6-d                8   0    0   1   0   0   0\nC6-e                0   0    0   1   0   0   0\nC7-a               14   3    1   6   5   8   0\nC7-b                7   2    0   6   4   4   0\n# datasets         17   5    1   7   7   8   2",
      "text/html": "<div>\n<style scoped>\n    .dataframe tbody tr th:only-of-type {\n        vertical-align: middle;\n    }\n\n    .dataframe tbody tr th {\n        vertical-align: top;\n    }\n\n    .dataframe thead th {\n        text-align: right;\n    }\n</style>\n<table border=\"1\" class=\"dataframe\">\n  <thead>\n    <tr style=\"text-align: right;\">\n      <th>Source of Content</th>\n      <th>CI</th>\n      <th>CS</th>\n      <th>SFT</th>\n      <th>SR</th>\n      <th>SS</th>\n      <th>ST</th>\n      <th>YT</th>\n    </tr>\n  </thead>\n  <tbody>\n    <tr>\n      <th>C1</th>\n      <td>12</td>\n      <td>3</td>\n      <td>1</td>\n      <td>6</td>\n      <td>2</td>\n      <td>3</td>\n      <td>0</td>\n    </tr>\n    <tr>\n      <th>C2</th>\n      <td>3</td>\n      <td>3</td>\n      <td>0</td>\n      <td>3</td>\n      <td>3</td>\n      <td>2</td>\n      <td>0</td>\n    </tr>\n    <tr>\n      <th>C3</th>\n      <td>6</td>\n      <td>2</td>\n      <td>0</td>\n      <td>2</td>\n      <td>1</td>\n      <td>2</td>\n      <td>1</td>\n    </tr>\n    <tr>\n      <th>C4</th>\n      <td>10</td>\n      <td>3</td>\n      <td>1</td>\n      <td>6</td>\n      <td>4</td>\n      <td>4</td>\n      <td>0</td>\n    </tr>\n    <tr>\n      <th>C5-a</th>\n      <td>16</td>\n      <td>3</td>\n      <td>1</td>\n      <td>5</td>\n      <td>6</td>\n      <td>4</td>\n      <td>1</td>\n    </tr>\n    <tr>\n      <th>C5-b</th>\n      <td>13</td>\n      <td>3</td>\n      <td>1</td>\n      <td>5</td>\n      <td>4</td>\n      <td>6</td>\n      <td>0</td>\n    </tr>\n    <tr>\n      <th>C5-c</th>\n      <td>10</td>\n      <td>2</td>\n      <td>1</td>\n      <td>5</td>\n      <td>3</td>\n      <td>6</td>\n      <td>1</td>\n    </tr>\n    <tr>\n      <th>C5-d</th>\n      <td>5</td>\n      <td>2</td>\n      <td>1</td>\n      <td>3</td>\n      <td>1</td>\n      <td>3</td>\n      <td>0</td>\n    </tr>\n    <tr>\n      <th>C5-e</th>\n      <td>14</td>\n      <td>3</td>\n      <td>1</td>\n      <td>3</td>\n      <td>2</td>\n      <td>5</td>\n      <td>1</td>\n    </tr>\n    <tr>\n      <th>C5-f</th>\n      <td>1</td>\n      <td>1</td>\n      <td>0</td>\n      <td>1</td>\n      <td>0</td>\n      <td>0</td>\n      <td>0</td>\n    </tr>\n    <tr>\n      <th>C5-g</th>\n      <td>0</td>\n      <td>0</td>\n      <td>1</td>\n      <td>1</td>\n      <td>1</td>\n      <td>1</td>\n      <td>0</td>\n    </tr>\n    <tr>\n      <th>C5-h</th>\n      <td>7</td>\n      <td>2</td>\n      <td>0</td>\n      <td>2</td>\n      <td>2</td>\n      <td>4</td>\n      <td>0</td>\n    </tr>\n    <tr>\n      <th>C5-i</th>\n      <td>2</td>\n      <td>5</td>\n      <td>0</td>\n      <td>3</td>\n      <td>2</td>\n      <td>0</td>\n      <td>0</td>\n    </tr>\n    <tr>\n      <th>C6 - a</th>\n      <td>5</td>\n      <td>0</td>\n      <td>0</td>\n      <td>4</td>\n      <td>2</td>\n      <td>4</td>\n      <td>0</td>\n    </tr>\n    <tr>\n      <th>C6 - b</th>\n      <td>5</td>\n      <td>2</td>\n      <td>0</td>\n      <td>3</td>\n      <td>2</td>\n      <td>0</td>\n      <td>0</td>\n    </tr>\n    <tr>\n      <th>C6 - c</th>\n      <td>12</td>\n      <td>1</td>\n      <td>0</td>\n      <td>4</td>\n      <td>3</td>\n      <td>2</td>\n      <td>0</td>\n    </tr>\n    <tr>\n      <th>C6-d</th>\n      <td>8</td>\n      <td>0</td>\n      <td>0</td>\n      <td>1</td>\n      <td>0</td>\n      <td>0</td>\n      <td>0</td>\n    </tr>\n    <tr>\n      <th>C6-e</th>\n      <td>0</td>\n      <td>0</td>\n      <td>0</td>\n      <td>1</td>\n      <td>0</td>\n      <td>0</td>\n      <td>0</td>\n    </tr>\n    <tr>\n      <th>C7-a</th>\n      <td>14</td>\n      <td>3</td>\n      <td>1</td>\n      <td>6</td>\n      <td>5</td>\n      <td>8</td>\n      <td>0</td>\n    </tr>\n    <tr>\n      <th>C7-b</th>\n      <td>7</td>\n      <td>2</td>\n      <td>0</td>\n      <td>6</td>\n      <td>4</td>\n      <td>4</td>\n      <td>0</td>\n    </tr>\n    <tr>\n      <th># datasets</th>\n      <td>17</td>\n      <td>5</td>\n      <td>1</td>\n      <td>7</td>\n      <td>7</td>\n      <td>8</td>\n      <td>2</td>\n    </tr>\n  </tbody>\n</table>\n</div>"
     },
     "execution_count": 128,
     "metadata": {},
     "output_type": "execute_result"
    }
   ],
   "source": [
    "# add at the beginning a row '# datasets' with the total number of datasets for each source of content\n",
    "proportions.loc['# datasets'] = data_expanded['Source of Content'].value_counts()\n",
    "proportions.head(30)"
   ],
   "metadata": {
    "collapsed": false,
    "ExecuteTime": {
     "end_time": "2024-03-30T11:00:13.258832Z",
     "start_time": "2024-03-30T11:00:13.254916Z"
    }
   }
  },
  {
   "cell_type": "code",
   "execution_count": 125,
   "outputs": [],
   "source": [
    "# save the proportions as a csv file\n",
    "proportions.to_csv('output_files/proportions.csv', sep=';')"
   ],
   "metadata": {
    "collapsed": false,
    "ExecuteTime": {
     "end_time": "2024-03-30T10:54:20.718942Z",
     "start_time": "2024-03-30T10:54:20.703353Z"
    }
   }
  },
  {
   "cell_type": "code",
   "execution_count": null,
   "outputs": [],
   "source": [],
   "metadata": {
    "collapsed": false
   }
  }
 ],
 "metadata": {
  "kernelspec": {
   "display_name": "Python 3",
   "language": "python",
   "name": "python3"
  },
  "language_info": {
   "codemirror_mode": {
    "name": "ipython",
    "version": 2
   },
   "file_extension": ".py",
   "mimetype": "text/x-python",
   "name": "python",
   "nbconvert_exporter": "python",
   "pygments_lexer": "ipython2",
   "version": "2.7.6"
  }
 },
 "nbformat": 4,
 "nbformat_minor": 0
}
